{
  "nbformat": 4,
  "nbformat_minor": 0,
  "metadata": {
    "colab": {
      "provenance": []
    },
    "kernelspec": {
      "name": "python3",
      "display_name": "Python 3"
    },
    "language_info": {
      "name": "python"
    }
  },
  "cells": [
    {
      "cell_type": "code",
      "execution_count": 1,
      "metadata": {
        "id": "vXzweJkejGlk"
      },
      "outputs": [],
      "source": [
        "import pandas as pd\n",
        "import sqlite3\n"
      ]
    },
    {
      "cell_type": "code",
      "source": [
        "# Simulate Orders data\n",
        "orders_data = {\n",
        "    'order_id': [101, 102, 103, 104, 105],\n",
        "    'customer_id': [1, 2, 1, 3, 2],\n",
        "    'product_id': [10, 11, 12, 10, 11],\n",
        "    'quantity': [2, 1, 3, 1, 2],\n",
        "    'order_date': ['2025-08-01', '2025-08-02', '2025-08-03', '2025-08-04', '2025-08-05']\n",
        "}\n",
        "df_orders = pd.DataFrame(orders_data)\n",
        "\n",
        "# Simulate Products data\n",
        "products_data = {\n",
        "    'product_id': [10, 11, 12],\n",
        "    'product_name': ['Laptop', 'Mouse', 'Keyboard'],\n",
        "    'category': ['Electronics', 'Electronics', 'Peripherals'],\n",
        "    'price': [1200.00, 25.00, 75.00]\n",
        "}\n",
        "df_products = pd.DataFrame(products_data)\n",
        "\n",
        "# Simulate Customers data\n",
        "customers_data = {\n",
        "    'customer_id': [1, 2, 3],\n",
        "    'customer_name': ['Alice', 'Bob', 'Charlie'],\n",
        "    'city': ['New York', 'London', 'Paris']\n",
        "}\n",
        "df_customers = pd.DataFrame(customers_data)\n",
        "\n",
        "print(\"Raw DataFrames created successfully.\")"
      ],
      "metadata": {
        "colab": {
          "base_uri": "https://localhost:8080/"
        },
        "id": "4wth-PkjjPYJ",
        "outputId": "5be87514-bb2d-4427-9770-6529023daf20"
      },
      "execution_count": 2,
      "outputs": [
        {
          "output_type": "stream",
          "name": "stdout",
          "text": [
            "Raw DataFrames created successfully.\n"
          ]
        }
      ]
    },
    {
      "cell_type": "markdown",
      "source": [],
      "metadata": {
        "id": "RuTJnWmS6NpP"
      }
    },
    {
      "cell_type": "code",
      "source": [
        "conn = sqlite3.connect('ecommerce.db')"
      ],
      "metadata": {
        "id": "t_cRE5tDjRDd"
      },
      "execution_count": 22,
      "outputs": []
    },
    {
      "cell_type": "code",
      "source": [
        "cursor = conn.cursor()\n",
        "\n",
        "# Create Dimension Tables\n",
        "cursor.execute('''\n",
        "    CREATE TABLE IF NOT EXISTS customer_dim (\n",
        "        customer_key INTEGER PRIMARY KEY,\n",
        "        customer_name TEXT,\n",
        "        city TEXT\n",
        "    );\n",
        "''')\n",
        "\n",
        "cursor.execute('''\n",
        "    CREATE TABLE IF NOT EXISTS product_dim (\n",
        "        product_key INTEGER PRIMARY KEY,\n",
        "        product_name TEXT,\n",
        "        category TEXT,\n",
        "        price REAL\n",
        "    );\n",
        "''')\n",
        "\n",
        "cursor.execute('''\n",
        "    CREATE TABLE IF NOT EXISTS date_dim (\n",
        "        date_key TEXT PRIMARY KEY,\n",
        "        full_date TEXT,\n",
        "        year INTEGER,\n",
        "        month INTEGER\n",
        "    );\n",
        "''')\n",
        "\n",
        "# Create Fact Table\n",
        "cursor.execute('''\n",
        "    CREATE TABLE IF NOT EXISTS sales_fact (\n",
        "        sale_id INTEGER PRIMARY KEY,\n",
        "        order_id INTEGER,\n",
        "        customer_key INTEGER,\n",
        "        product_key INTEGER,\n",
        "        date_key TEXT,\n",
        "        quantity INTEGER,\n",
        "        total_sale_amount REAL,\n",
        "        FOREIGN KEY(customer_key) REFERENCES customer_dim(customer_key),\n",
        "        FOREIGN KEY(product_key) REFERENCES product_dim(product_key),\n",
        "        FOREIGN KEY(date_key) REFERENCES date_dim(date_key)\n",
        "    );\n",
        "''')\n",
        "\n",
        "conn.commit()\n",
        "print(\"Database schema created successfully.\")"
      ],
      "metadata": {
        "colab": {
          "base_uri": "https://localhost:8080/"
        },
        "id": "9OGDD6aajXDp",
        "outputId": "d2fc3489-2043-4e4b-de6c-cad3e8445f4c"
      },
      "execution_count": 4,
      "outputs": [
        {
          "output_type": "stream",
          "name": "stdout",
          "text": [
            "Database schema created successfully.\n"
          ]
        }
      ]
    },
    {
      "cell_type": "code",
      "source": [
        "# Merge all DataFrames to get a single source of truth for the fact table\n",
        "df_merged = pd.merge(df_orders, df_customers, on='customer_id')\n",
        "df_merged = pd.merge(df_merged, df_products, on='product_id')\n",
        "\n",
        "# Add a 'total_sale_amount' column\n",
        "df_merged['total_sale_amount'] = df_merged['quantity'] * df_merged['price']\n",
        "\n",
        "# Prepare data for dimension tables\n",
        "customer_dim_data = df_customers.rename(columns={'customer_id': 'customer_key'})\n",
        "product_dim_data = df_products.rename(columns={'product_id': 'product_key'})\n",
        "date_dim_data = df_orders[['order_date']].copy()\n",
        "date_dim_data['year'] = pd.to_datetime(date_dim_data['order_date']).dt.year\n",
        "date_dim_data['month'] = pd.to_datetime(date_dim_data['order_date']).dt.month\n",
        "date_dim_data = date_dim_data.drop_duplicates(subset=['order_date']).rename(columns={'order_date': 'date_key'})\n",
        "date_dim_data['full_date'] = date_dim_data['date_key']"
      ],
      "metadata": {
        "id": "13g-DufTjalo"
      },
      "execution_count": 5,
      "outputs": []
    },
    {
      "cell_type": "code",
      "source": [
        "# Load data into Dimension Tables\n",
        "customer_dim_data.to_sql('customer_dim', conn, if_exists='replace', index=False)\n",
        "product_dim_data.to_sql('product_dim', conn, if_exists='replace', index=False)\n",
        "date_dim_data.to_sql('date_dim', conn, if_exists='replace', index=False)\n",
        "\n",
        "# Load data into the Fact Table\n",
        "fact_table_data = df_merged.rename(columns={'customer_id': 'customer_key', 'product_id': 'product_key', 'order_date': 'date_key'})\n",
        "fact_table_data = fact_table_data[['order_id', 'customer_key', 'product_key', 'date_key', 'quantity', 'total_sale_amount']]\n",
        "fact_table_data.to_sql('sales_fact', conn, if_exists='replace', index=True, index_label='sale_id')\n",
        "\n",
        "print(\"Data loaded into the data warehouse successfully.\")"
      ],
      "metadata": {
        "colab": {
          "base_uri": "https://localhost:8080/"
        },
        "id": "WZfB_ZY4jeOc",
        "outputId": "bac5c3f3-e59f-4439-e2d5-e7c12b0f9f6c"
      },
      "execution_count": 17,
      "outputs": [
        {
          "output_type": "stream",
          "name": "stdout",
          "text": [
            "Data loaded into the data warehouse successfully.\n"
          ]
        }
      ]
    },
    {
      "cell_type": "code",
      "source": [
        "# Function to run a query and display results in a DataFrame\n",
        "def run_query(query):\n",
        "    return pd.read_sql_query(query, conn)\n",
        "\n",
        "# Example 1: Total sales per product category\n",
        "query_category_sales = \"\"\"\n",
        "    SELECT\n",
        "        d.category,\n",
        "        SUM(f.total_sale_amount) AS total_sales\n",
        "    FROM sales_fact f\n",
        "    JOIN product_dim d ON f.product_key = d.product_key\n",
        "    GROUP BY d.category\n",
        "    ORDER BY total_sales DESC;\n",
        "\"\"\"\n",
        "print(\"Total sales by category:\")\n",
        "print(run_query(query_category_sales))\n",
        "\n",
        "# Example 2: Top 3 customers by total spend\n",
        "query_top_customers = \"\"\"\n",
        "    SELECT\n",
        "        c.customer_name,\n",
        "        SUM(f.total_sale_amount) AS total_spend\n",
        "    FROM sales_fact f\n",
        "    JOIN customer_dim c ON f.customer_key = c.customer_key\n",
        "    GROUP BY c.customer_name\n",
        "    ORDER BY total_spend DESC\n",
        "    LIMIT 3;\n",
        "\"\"\"\n",
        "print(\"\\nTop 3 customers by total spend:\")\n",
        "print(run_query(query_top_customers))\n",
        "\n",
        "# Close the database connection\n",
        "conn.close()\n",
        "print(\"\\nDatabase connection closed.\")"
      ],
      "metadata": {
        "colab": {
          "base_uri": "https://localhost:8080/"
        },
        "id": "AVv9ZOR1jleU",
        "outputId": "4a91cf89-21c8-4855-a58d-1a4b05c1451b"
      },
      "execution_count": 21,
      "outputs": [
        {
          "output_type": "stream",
          "name": "stdout",
          "text": [
            "Total sales by category:\n",
            "      category  total_sales\n",
            "0  Electronics       3675.0\n",
            "1  Peripherals        225.0\n",
            "\n",
            "Top 5 customers by total spend:\n",
            "  customer_name  total_spend\n",
            "0         Alice       2625.0\n",
            "1       Charlie       1200.0\n",
            "2           Bob         75.0\n",
            "\n",
            "Database connection closed.\n"
          ]
        }
      ]
    }
  ]
}